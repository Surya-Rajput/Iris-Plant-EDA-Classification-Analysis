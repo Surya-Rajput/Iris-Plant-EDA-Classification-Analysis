{
 "cells": [
  {
   "cell_type": "markdown",
   "id": "5880a1e0",
   "metadata": {},
   "source": [
    "### Importing libraries "
   ]
  },
  {
   "cell_type": "code",
   "execution_count": 3,
   "id": "0b287695",
   "metadata": {},
   "outputs": [],
   "source": [
    "import matplotlib.pyplot as plt\n",
    "import numpy as np\n",
    "import pandas as pd\n",
    "import seaborn as sns\n",
    "%matplotlib inline"
   ]
  },
  {
   "cell_type": "markdown",
   "id": "b3a68ac1",
   "metadata": {},
   "source": [
    "### Reading in Iris dataset"
   ]
  },
  {
   "cell_type": "code",
   "execution_count": 5,
   "id": "3f86afe6",
   "metadata": {},
   "outputs": [
    {
     "data": {
      "text/html": [
       "<div>\n",
       "<style scoped>\n",
       "    .dataframe tbody tr th:only-of-type {\n",
       "        vertical-align: middle;\n",
       "    }\n",
       "\n",
       "    .dataframe tbody tr th {\n",
       "        vertical-align: top;\n",
       "    }\n",
       "\n",
       "    .dataframe thead th {\n",
       "        text-align: right;\n",
       "    }\n",
       "</style>\n",
       "<table border=\"1\" class=\"dataframe\">\n",
       "  <thead>\n",
       "    <tr style=\"text-align: right;\">\n",
       "      <th></th>\n",
       "      <th>sepal.length</th>\n",
       "      <th>sepal.width</th>\n",
       "      <th>petal.length</th>\n",
       "      <th>petal.width</th>\n",
       "      <th>variety</th>\n",
       "    </tr>\n",
       "  </thead>\n",
       "  <tbody>\n",
       "    <tr>\n",
       "      <th>0</th>\n",
       "      <td>5.1</td>\n",
       "      <td>3.5</td>\n",
       "      <td>1.4</td>\n",
       "      <td>0.2</td>\n",
       "      <td>Setosa</td>\n",
       "    </tr>\n",
       "    <tr>\n",
       "      <th>1</th>\n",
       "      <td>4.9</td>\n",
       "      <td>3.0</td>\n",
       "      <td>1.4</td>\n",
       "      <td>0.2</td>\n",
       "      <td>Setosa</td>\n",
       "    </tr>\n",
       "    <tr>\n",
       "      <th>2</th>\n",
       "      <td>4.7</td>\n",
       "      <td>3.2</td>\n",
       "      <td>1.3</td>\n",
       "      <td>0.2</td>\n",
       "      <td>Setosa</td>\n",
       "    </tr>\n",
       "    <tr>\n",
       "      <th>3</th>\n",
       "      <td>4.6</td>\n",
       "      <td>3.1</td>\n",
       "      <td>1.5</td>\n",
       "      <td>0.2</td>\n",
       "      <td>Setosa</td>\n",
       "    </tr>\n",
       "    <tr>\n",
       "      <th>4</th>\n",
       "      <td>5.0</td>\n",
       "      <td>3.6</td>\n",
       "      <td>1.4</td>\n",
       "      <td>0.2</td>\n",
       "      <td>Setosa</td>\n",
       "    </tr>\n",
       "  </tbody>\n",
       "</table>\n",
       "</div>"
      ],
      "text/plain": [
       "   sepal.length  sepal.width  petal.length  petal.width variety\n",
       "0           5.1          3.5           1.4          0.2  Setosa\n",
       "1           4.9          3.0           1.4          0.2  Setosa\n",
       "2           4.7          3.2           1.3          0.2  Setosa\n",
       "3           4.6          3.1           1.5          0.2  Setosa\n",
       "4           5.0          3.6           1.4          0.2  Setosa"
      ]
     },
     "execution_count": 5,
     "metadata": {},
     "output_type": "execute_result"
    }
   ],
   "source": [
    "iris = pd.read_csv(\"C:/Users/Surya/Desktop/SURYA GEORGIAN/AIDI 1003 Machine learning frameworks/IRIS DATASET PROJECT 1/Iris datset.csv\")\n",
    "iris.head()"
   ]
  },
  {
   "cell_type": "code",
   "execution_count": 317,
   "id": "31078caf",
   "metadata": {},
   "outputs": [
    {
     "data": {
      "text/plain": [
       "(150, 5)"
      ]
     },
     "execution_count": 317,
     "metadata": {},
     "output_type": "execute_result"
    }
   ],
   "source": [
    "#finding out number of rows and columns\n",
    "iris.shape"
   ]
  },
  {
   "cell_type": "code",
   "execution_count": 318,
   "id": "75adbe6a",
   "metadata": {},
   "outputs": [
    {
     "data": {
      "text/plain": [
       "Index(['sepal.length', 'sepal.width', 'petal.length', 'petal.width',\n",
       "       'variety'],\n",
       "      dtype='object')"
      ]
     },
     "execution_count": 318,
     "metadata": {},
     "output_type": "execute_result"
    }
   ],
   "source": [
    "#finding out columns name\n",
    "iris.columns"
   ]
  },
  {
   "cell_type": "markdown",
   "id": "fadb65b8",
   "metadata": {},
   "source": [
    "#### our dataset have 5 columns named sepal.length, sepal.width, petal.length, petal.width and variety "
   ]
  },
  {
   "cell_type": "code",
   "execution_count": 319,
   "id": "d2b6a1c7",
   "metadata": {},
   "outputs": [
    {
     "name": "stdout",
     "output_type": "stream",
     "text": [
      "<class 'pandas.core.frame.DataFrame'>\n",
      "RangeIndex: 150 entries, 0 to 149\n",
      "Data columns (total 5 columns):\n",
      " #   Column        Non-Null Count  Dtype  \n",
      "---  ------        --------------  -----  \n",
      " 0   sepal.length  150 non-null    float64\n",
      " 1   sepal.width   150 non-null    float64\n",
      " 2   petal.length  150 non-null    float64\n",
      " 3   petal.width   150 non-null    float64\n",
      " 4   variety       150 non-null    object \n",
      "dtypes: float64(4), object(1)\n",
      "memory usage: 6.0+ KB\n"
     ]
    }
   ],
   "source": [
    "#finding out datatype of each column\n",
    "iris.info()"
   ]
  },
  {
   "cell_type": "markdown",
   "id": "6e561a91",
   "metadata": {},
   "source": [
    "#### All the columns are numeric except one column named variety"
   ]
  },
  {
   "cell_type": "code",
   "execution_count": 321,
   "id": "42eb3da4",
   "metadata": {},
   "outputs": [
    {
     "data": {
      "text/html": [
       "<div>\n",
       "<style scoped>\n",
       "    .dataframe tbody tr th:only-of-type {\n",
       "        vertical-align: middle;\n",
       "    }\n",
       "\n",
       "    .dataframe tbody tr th {\n",
       "        vertical-align: top;\n",
       "    }\n",
       "\n",
       "    .dataframe thead th {\n",
       "        text-align: right;\n",
       "    }\n",
       "</style>\n",
       "<table border=\"1\" class=\"dataframe\">\n",
       "  <thead>\n",
       "    <tr style=\"text-align: right;\">\n",
       "      <th></th>\n",
       "      <th>sepal.length</th>\n",
       "      <th>sepal.width</th>\n",
       "      <th>petal.length</th>\n",
       "      <th>petal.width</th>\n",
       "    </tr>\n",
       "  </thead>\n",
       "  <tbody>\n",
       "    <tr>\n",
       "      <th>count</th>\n",
       "      <td>150.000000</td>\n",
       "      <td>150.000000</td>\n",
       "      <td>150.000000</td>\n",
       "      <td>150.000000</td>\n",
       "    </tr>\n",
       "    <tr>\n",
       "      <th>mean</th>\n",
       "      <td>5.843333</td>\n",
       "      <td>3.057333</td>\n",
       "      <td>3.758000</td>\n",
       "      <td>1.199333</td>\n",
       "    </tr>\n",
       "    <tr>\n",
       "      <th>std</th>\n",
       "      <td>0.828066</td>\n",
       "      <td>0.435866</td>\n",
       "      <td>1.765298</td>\n",
       "      <td>0.762238</td>\n",
       "    </tr>\n",
       "    <tr>\n",
       "      <th>min</th>\n",
       "      <td>4.300000</td>\n",
       "      <td>2.000000</td>\n",
       "      <td>1.000000</td>\n",
       "      <td>0.100000</td>\n",
       "    </tr>\n",
       "    <tr>\n",
       "      <th>25%</th>\n",
       "      <td>5.100000</td>\n",
       "      <td>2.800000</td>\n",
       "      <td>1.600000</td>\n",
       "      <td>0.300000</td>\n",
       "    </tr>\n",
       "    <tr>\n",
       "      <th>50%</th>\n",
       "      <td>5.800000</td>\n",
       "      <td>3.000000</td>\n",
       "      <td>4.350000</td>\n",
       "      <td>1.300000</td>\n",
       "    </tr>\n",
       "    <tr>\n",
       "      <th>75%</th>\n",
       "      <td>6.400000</td>\n",
       "      <td>3.300000</td>\n",
       "      <td>5.100000</td>\n",
       "      <td>1.800000</td>\n",
       "    </tr>\n",
       "    <tr>\n",
       "      <th>max</th>\n",
       "      <td>7.900000</td>\n",
       "      <td>4.400000</td>\n",
       "      <td>6.900000</td>\n",
       "      <td>2.500000</td>\n",
       "    </tr>\n",
       "  </tbody>\n",
       "</table>\n",
       "</div>"
      ],
      "text/plain": [
       "       sepal.length  sepal.width  petal.length  petal.width\n",
       "count    150.000000   150.000000    150.000000   150.000000\n",
       "mean       5.843333     3.057333      3.758000     1.199333\n",
       "std        0.828066     0.435866      1.765298     0.762238\n",
       "min        4.300000     2.000000      1.000000     0.100000\n",
       "25%        5.100000     2.800000      1.600000     0.300000\n",
       "50%        5.800000     3.000000      4.350000     1.300000\n",
       "75%        6.400000     3.300000      5.100000     1.800000\n",
       "max        7.900000     4.400000      6.900000     2.500000"
      ]
     },
     "execution_count": 321,
     "metadata": {},
     "output_type": "execute_result"
    }
   ],
   "source": [
    "#getting a quick summary of distribuition of data\n",
    "iris.describe()"
   ]
  },
  {
   "cell_type": "markdown",
   "id": "eb30e3fd",
   "metadata": {},
   "source": [
    "### Checking for missing values\n"
   ]
  },
  {
   "cell_type": "code",
   "execution_count": 134,
   "id": "ea43fa07",
   "metadata": {},
   "outputs": [
    {
     "data": {
      "text/plain": [
       "sepal.length    0\n",
       "sepal.width     0\n",
       "petal.length    0\n",
       "petal.width     0\n",
       "variety         0\n",
       "dtype: int64"
      ]
     },
     "execution_count": 134,
     "metadata": {},
     "output_type": "execute_result"
    }
   ],
   "source": [
    "iris.isnull().sum()"
   ]
  },
  {
   "cell_type": "markdown",
   "id": "f27e4677",
   "metadata": {},
   "source": [
    "#### No missing values found"
   ]
  },
  {
   "cell_type": "markdown",
   "id": "85836920",
   "metadata": {},
   "source": [
    "### Checking duplicates"
   ]
  },
  {
   "cell_type": "code",
   "execution_count": 135,
   "id": "7f2151fc",
   "metadata": {},
   "outputs": [
    {
     "data": {
      "text/html": [
       "<div>\n",
       "<style scoped>\n",
       "    .dataframe tbody tr th:only-of-type {\n",
       "        vertical-align: middle;\n",
       "    }\n",
       "\n",
       "    .dataframe tbody tr th {\n",
       "        vertical-align: top;\n",
       "    }\n",
       "\n",
       "    .dataframe thead th {\n",
       "        text-align: right;\n",
       "    }\n",
       "</style>\n",
       "<table border=\"1\" class=\"dataframe\">\n",
       "  <thead>\n",
       "    <tr style=\"text-align: right;\">\n",
       "      <th></th>\n",
       "      <th>sepal.length</th>\n",
       "      <th>sepal.width</th>\n",
       "      <th>petal.length</th>\n",
       "      <th>petal.width</th>\n",
       "      <th>variety</th>\n",
       "    </tr>\n",
       "  </thead>\n",
       "  <tbody>\n",
       "    <tr>\n",
       "      <th>0</th>\n",
       "      <td>5.1</td>\n",
       "      <td>3.5</td>\n",
       "      <td>1.4</td>\n",
       "      <td>0.2</td>\n",
       "      <td>Setosa</td>\n",
       "    </tr>\n",
       "    <tr>\n",
       "      <th>50</th>\n",
       "      <td>7.0</td>\n",
       "      <td>3.2</td>\n",
       "      <td>4.7</td>\n",
       "      <td>1.4</td>\n",
       "      <td>Versicolor</td>\n",
       "    </tr>\n",
       "    <tr>\n",
       "      <th>100</th>\n",
       "      <td>6.3</td>\n",
       "      <td>3.3</td>\n",
       "      <td>6.0</td>\n",
       "      <td>2.5</td>\n",
       "      <td>Virginica</td>\n",
       "    </tr>\n",
       "  </tbody>\n",
       "</table>\n",
       "</div>"
      ],
      "text/plain": [
       "     sepal.length  sepal.width  petal.length  petal.width     variety\n",
       "0             5.1          3.5           1.4          0.2      Setosa\n",
       "50            7.0          3.2           4.7          1.4  Versicolor\n",
       "100           6.3          3.3           6.0          2.5   Virginica"
      ]
     },
     "execution_count": 135,
     "metadata": {},
     "output_type": "execute_result"
    }
   ],
   "source": [
    "data = iris.drop_duplicates(subset =\"variety\",)\n",
    "data\n"
   ]
  },
  {
   "cell_type": "markdown",
   "id": "4bbb89e2",
   "metadata": {},
   "source": [
    "#### We have 3 unique varieties"
   ]
  },
  {
   "cell_type": "markdown",
   "id": "6ee78fd9",
   "metadata": {},
   "source": [
    "### Checking if dataset is balanced"
   ]
  },
  {
   "cell_type": "code",
   "execution_count": 322,
   "id": "866f68c2",
   "metadata": {},
   "outputs": [
    {
     "data": {
      "text/plain": [
       "variety\n",
       "Setosa        50\n",
       "Versicolor    50\n",
       "Virginica     50\n",
       "dtype: int64"
      ]
     },
     "execution_count": 322,
     "metadata": {},
     "output_type": "execute_result"
    }
   ],
   "source": [
    "iris.value_counts(\"variety\")"
   ]
  },
  {
   "cell_type": "markdown",
   "id": "61f586ec",
   "metadata": {},
   "source": [
    "#### It is balanced all varities contain equal amount of rows"
   ]
  },
  {
   "cell_type": "markdown",
   "id": "efad8ef8",
   "metadata": {},
   "source": [
    "# Exploring features using histogram"
   ]
  },
  {
   "cell_type": "markdown",
   "id": "f8ef5e04",
   "metadata": {},
   "source": [
    "#### Plotting histogram of Sepal Length"
   ]
  },
  {
   "cell_type": "code",
   "execution_count": 323,
   "id": "c693ad35",
   "metadata": {},
   "outputs": [
    {
     "data": {
      "image/png": "[encoded data removed]",
      "text/plain": [
       "<Figure size 640x480 with 1 Axes>"
      ]
     },
     "metadata": {},
     "output_type": "display_data"
    }
   ],
   "source": [
    "iris[\"sepal.length\"].plot.hist(bins = 25)\n",
    "\n",
    "plt.title(\"Histogram of Sepal Length\")\n",
    "plt.xlabel(\"Sepal Length (cm)\")\n",
    "plt.ylabel(\"Frequency\")\n",
    "\n",
    "plt.show()"
   ]
  },
  {
   "cell_type": "markdown",
   "id": "315a798e",
   "metadata": {},
   "source": [
    "#### Plotting histogram of Sepal width"
   ]
  },
  {
   "cell_type": "code",
   "execution_count": 325,
   "id": "8d863475",
   "metadata": {},
   "outputs": [
    {
     "data": {
      "image/png": "[encoded data removed]",
      "text/plain": [
       "<Figure size 640x480 with 1 Axes>"
      ]
     },
     "metadata": {},
     "output_type": "display_data"
    }
   ],
   "source": [
    "iris[\"sepal.width\"].plot.hist(bins = 25)\n",
    "\n",
    "plt.title(\"Histogram of Sepal Width\")\n",
    "plt.xlabel(\"Sepal Width (cm)\")\n",
    "plt.ylabel(\"Frequency\")\n",
    "\n",
    "plt.show()"
   ]
  },
  {
   "cell_type": "markdown",
   "id": "07d8edbb",
   "metadata": {},
   "source": [
    "#### Plotting histogram of Petal Length"
   ]
  },
  {
   "cell_type": "code",
   "execution_count": 326,
   "id": "f47e1cba",
   "metadata": {},
   "outputs": [
    {
     "data": {
      "image/png": "[encoded data removed]",
      "text/plain": [
       "<Figure size 640x480 with 1 Axes>"
      ]
     },
     "metadata": {},
     "output_type": "display_data"
    }
   ],
   "source": [
    "iris[\"petal.length\"].plot.hist(bins = 25)\n",
    "\n",
    "plt.title(\"Histogram of Petal Length\")\n",
    "plt.xlabel(\"Petal Length (cm)\")\n",
    "plt.ylabel(\"Frequency\")\n",
    "\n",
    "plt.show()"
   ]
  },
  {
   "cell_type": "markdown",
   "id": "dea8038e",
   "metadata": {},
   "source": [
    "#### Plotting histogram of Petal Width"
   ]
  },
  {
   "cell_type": "code",
   "execution_count": 327,
   "id": "3083c129",
   "metadata": {},
   "outputs": [
    {
     "data": {
      "image/png": "[encoded data removed]",
      "text/plain": [
       "<Figure size 640x480 with 1 Axes>"
      ]
     },
     "metadata": {},
     "output_type": "display_data"
    }
   ],
   "source": [
    "iris[\"petal.width\"].plot.hist(bins = 25)\n",
    "\n",
    "plt.title(\"Histogram of Petal Width\")\n",
    "plt.xlabel(\"Petal Width (cm)\")\n",
    "plt.ylabel(\"Frequency\")\n",
    "\n",
    "plt.show()"
   ]
  },
  {
   "cell_type": "markdown",
   "id": "02d4e5cd",
   "metadata": {},
   "source": [
    "### Analysis from Histograms\n",
    "#### From histograms we can see that values of Sepal length and Sepal width overlaps for all the variety of iris plant  but values of Petal length and Petal width can play a influencing role for diffrentiating the first variety of plant(Setosa) from other two varities of plant(Versicolor and virginica)."
   ]
  },
  {
   "cell_type": "markdown",
   "id": "6c5055f4",
   "metadata": {},
   "source": [
    "## Encoding target variable i.e converting it into numeric type ( Target variable = variety)"
   ]
  },
  {
   "cell_type": "code",
   "execution_count": 141,
   "id": "0d984d01",
   "metadata": {},
   "outputs": [],
   "source": [
    "#importing label encoder \n",
    "from sklearn.preprocessing import LabelEncoder"
   ]
  },
  {
   "cell_type": "code",
   "execution_count": 142,
   "id": "a2bad26b",
   "metadata": {},
   "outputs": [
    {
     "data": {
      "text/html": [
       "<div>\n",
       "<style scoped>\n",
       "    .dataframe tbody tr th:only-of-type {\n",
       "        vertical-align: middle;\n",
       "    }\n",
       "\n",
       "    .dataframe tbody tr th {\n",
       "        vertical-align: top;\n",
       "    }\n",
       "\n",
       "    .dataframe thead th {\n",
       "        text-align: right;\n",
       "    }\n",
       "</style>\n",
       "<table border=\"1\" class=\"dataframe\">\n",
       "  <thead>\n",
       "    <tr style=\"text-align: right;\">\n",
       "      <th></th>\n",
       "      <th>sepal.length</th>\n",
       "      <th>sepal.width</th>\n",
       "      <th>petal.length</th>\n",
       "      <th>petal.width</th>\n",
       "      <th>variety</th>\n",
       "    </tr>\n",
       "  </thead>\n",
       "  <tbody>\n",
       "    <tr>\n",
       "      <th>0</th>\n",
       "      <td>5.1</td>\n",
       "      <td>3.5</td>\n",
       "      <td>1.4</td>\n",
       "      <td>0.2</td>\n",
       "      <td>0</td>\n",
       "    </tr>\n",
       "    <tr>\n",
       "      <th>1</th>\n",
       "      <td>4.9</td>\n",
       "      <td>3.0</td>\n",
       "      <td>1.4</td>\n",
       "      <td>0.2</td>\n",
       "      <td>0</td>\n",
       "    </tr>\n",
       "    <tr>\n",
       "      <th>2</th>\n",
       "      <td>4.7</td>\n",
       "      <td>3.2</td>\n",
       "      <td>1.3</td>\n",
       "      <td>0.2</td>\n",
       "      <td>0</td>\n",
       "    </tr>\n",
       "    <tr>\n",
       "      <th>3</th>\n",
       "      <td>4.6</td>\n",
       "      <td>3.1</td>\n",
       "      <td>1.5</td>\n",
       "      <td>0.2</td>\n",
       "      <td>0</td>\n",
       "    </tr>\n",
       "    <tr>\n",
       "      <th>4</th>\n",
       "      <td>5.0</td>\n",
       "      <td>3.6</td>\n",
       "      <td>1.4</td>\n",
       "      <td>0.2</td>\n",
       "      <td>0</td>\n",
       "    </tr>\n",
       "  </tbody>\n",
       "</table>\n",
       "</div>"
      ],
      "text/plain": [
       "   sepal.length  sepal.width  petal.length  petal.width  variety\n",
       "0           5.1          3.5           1.4          0.2        0\n",
       "1           4.9          3.0           1.4          0.2        0\n",
       "2           4.7          3.2           1.3          0.2        0\n",
       "3           4.6          3.1           1.5          0.2        0\n",
       "4           5.0          3.6           1.4          0.2        0"
      ]
     },
     "execution_count": 142,
     "metadata": {},
     "output_type": "execute_result"
    }
   ],
   "source": [
    "# converting target variable into numeric type\n",
    "le = LabelEncoder()\n",
    "iris['variety'] = le.fit_transform(iris['variety'])\n",
    "# printing first 5 observation to check the encoded value\n",
    "iris.head()"
   ]
  },
  {
   "cell_type": "code",
   "execution_count": 143,
   "id": "0316a7db",
   "metadata": {},
   "outputs": [
    {
     "data": {
      "text/html": [
       "<div>\n",
       "<style scoped>\n",
       "    .dataframe tbody tr th:only-of-type {\n",
       "        vertical-align: middle;\n",
       "    }\n",
       "\n",
       "    .dataframe tbody tr th {\n",
       "        vertical-align: top;\n",
       "    }\n",
       "\n",
       "    .dataframe thead th {\n",
       "        text-align: right;\n",
       "    }\n",
       "</style>\n",
       "<table border=\"1\" class=\"dataframe\">\n",
       "  <thead>\n",
       "    <tr style=\"text-align: right;\">\n",
       "      <th></th>\n",
       "      <th>sepal.length</th>\n",
       "      <th>sepal.width</th>\n",
       "      <th>petal.length</th>\n",
       "      <th>petal.width</th>\n",
       "      <th>variety</th>\n",
       "    </tr>\n",
       "  </thead>\n",
       "  <tbody>\n",
       "    <tr>\n",
       "      <th>145</th>\n",
       "      <td>6.7</td>\n",
       "      <td>3.0</td>\n",
       "      <td>5.2</td>\n",
       "      <td>2.3</td>\n",
       "      <td>2</td>\n",
       "    </tr>\n",
       "    <tr>\n",
       "      <th>146</th>\n",
       "      <td>6.3</td>\n",
       "      <td>2.5</td>\n",
       "      <td>5.0</td>\n",
       "      <td>1.9</td>\n",
       "      <td>2</td>\n",
       "    </tr>\n",
       "    <tr>\n",
       "      <th>147</th>\n",
       "      <td>6.5</td>\n",
       "      <td>3.0</td>\n",
       "      <td>5.2</td>\n",
       "      <td>2.0</td>\n",
       "      <td>2</td>\n",
       "    </tr>\n",
       "    <tr>\n",
       "      <th>148</th>\n",
       "      <td>6.2</td>\n",
       "      <td>3.4</td>\n",
       "      <td>5.4</td>\n",
       "      <td>2.3</td>\n",
       "      <td>2</td>\n",
       "    </tr>\n",
       "    <tr>\n",
       "      <th>149</th>\n",
       "      <td>5.9</td>\n",
       "      <td>3.0</td>\n",
       "      <td>5.1</td>\n",
       "      <td>1.8</td>\n",
       "      <td>2</td>\n",
       "    </tr>\n",
       "  </tbody>\n",
       "</table>\n",
       "</div>"
      ],
      "text/plain": [
       "     sepal.length  sepal.width  petal.length  petal.width  variety\n",
       "145           6.7          3.0           5.2          2.3        2\n",
       "146           6.3          2.5           5.0          1.9        2\n",
       "147           6.5          3.0           5.2          2.0        2\n",
       "148           6.2          3.4           5.4          2.3        2\n",
       "149           5.9          3.0           5.1          1.8        2"
      ]
     },
     "execution_count": 143,
     "metadata": {},
     "output_type": "execute_result"
    }
   ],
   "source": [
    "#printing last 5 observations to check the encoded value\n",
    "iris.tail()"
   ]
  },
  {
   "cell_type": "code",
   "execution_count": 144,
   "id": "9c55b450",
   "metadata": {},
   "outputs": [
    {
     "data": {
      "text/plain": [
       "array([0, 1, 2])"
      ]
     },
     "execution_count": 144,
     "metadata": {},
     "output_type": "execute_result"
    }
   ],
   "source": [
    "# checking the unique values for variety ( target variable)\n",
    "iris.variety.unique()"
   ]
  },
  {
   "cell_type": "markdown",
   "id": "c55f1468",
   "metadata": {},
   "source": [
    "##### We can see that variety satosa became value -----> 1\n",
    "#####                                       Versicolor became value ----->2\n",
    "#####                                         Virginica became value ------> 3"
   ]
  },
  {
   "cell_type": "markdown",
   "id": "e2c58d8a",
   "metadata": {},
   "source": [
    "## Writing out the encoded dataset"
   ]
  },
  {
   "cell_type": "code",
   "execution_count": 145,
   "id": "bb7c9710",
   "metadata": {},
   "outputs": [],
   "source": [
    "iris.to_csv('C:/Users/Surya/Desktop/SURYA GEORGIAN/AIDI 1003 Machine learning frameworks/IRIS DATASET PROJECT 1/encoded.csv', index=False)"
   ]
  },
  {
   "cell_type": "markdown",
   "id": "f025e7e1",
   "metadata": {},
   "source": [
    "## Splitting Data into train, validation and test set (60-20-20 ratio)"
   ]
  },
  {
   "cell_type": "code",
   "execution_count": 328,
   "id": "39c9e500",
   "metadata": {},
   "outputs": [
    {
     "data": {
      "text/html": [
       "<div>\n",
       "<style scoped>\n",
       "    .dataframe tbody tr th:only-of-type {\n",
       "        vertical-align: middle;\n",
       "    }\n",
       "\n",
       "    .dataframe tbody tr th {\n",
       "        vertical-align: top;\n",
       "    }\n",
       "\n",
       "    .dataframe thead th {\n",
       "        text-align: right;\n",
       "    }\n",
       "</style>\n",
       "<table border=\"1\" class=\"dataframe\">\n",
       "  <thead>\n",
       "    <tr style=\"text-align: right;\">\n",
       "      <th></th>\n",
       "      <th>sepal.length</th>\n",
       "      <th>sepal.width</th>\n",
       "      <th>petal.length</th>\n",
       "      <th>petal.width</th>\n",
       "      <th>variety</th>\n",
       "    </tr>\n",
       "  </thead>\n",
       "  <tbody>\n",
       "    <tr>\n",
       "      <th>0</th>\n",
       "      <td>5.1</td>\n",
       "      <td>3.5</td>\n",
       "      <td>1.4</td>\n",
       "      <td>0.2</td>\n",
       "      <td>0</td>\n",
       "    </tr>\n",
       "    <tr>\n",
       "      <th>1</th>\n",
       "      <td>4.9</td>\n",
       "      <td>3.0</td>\n",
       "      <td>1.4</td>\n",
       "      <td>0.2</td>\n",
       "      <td>0</td>\n",
       "    </tr>\n",
       "    <tr>\n",
       "      <th>2</th>\n",
       "      <td>4.7</td>\n",
       "      <td>3.2</td>\n",
       "      <td>1.3</td>\n",
       "      <td>0.2</td>\n",
       "      <td>0</td>\n",
       "    </tr>\n",
       "    <tr>\n",
       "      <th>3</th>\n",
       "      <td>4.6</td>\n",
       "      <td>3.1</td>\n",
       "      <td>1.5</td>\n",
       "      <td>0.2</td>\n",
       "      <td>0</td>\n",
       "    </tr>\n",
       "    <tr>\n",
       "      <th>4</th>\n",
       "      <td>5.0</td>\n",
       "      <td>3.6</td>\n",
       "      <td>1.4</td>\n",
       "      <td>0.2</td>\n",
       "      <td>0</td>\n",
       "    </tr>\n",
       "  </tbody>\n",
       "</table>\n",
       "</div>"
      ],
      "text/plain": [
       "   sepal.length  sepal.width  petal.length  petal.width  variety\n",
       "0           5.1          3.5           1.4          0.2        0\n",
       "1           4.9          3.0           1.4          0.2        0\n",
       "2           4.7          3.2           1.3          0.2        0\n",
       "3           4.6          3.1           1.5          0.2        0\n",
       "4           5.0          3.6           1.4          0.2        0"
      ]
     },
     "execution_count": 328,
     "metadata": {},
     "output_type": "execute_result"
    }
   ],
   "source": [
    "#importing train_test_split\n",
    "from sklearn.model_selection import train_test_split\n",
    "\n",
    "#reading encoded data\n",
    "iris_en = pd.read_csv('C:/Users/Surya/Desktop/SURYA GEORGIAN/AIDI 1003 Machine learning frameworks/IRIS DATASET PROJECT 1/encoded.csv')\n",
    "iris_en.head()"
   ]
  },
  {
   "cell_type": "code",
   "execution_count": 329,
   "id": "cc075c01",
   "metadata": {},
   "outputs": [],
   "source": [
    "features = iris_en.drop('variety', axis=1)\n",
    "labels = iris_en['variety']\n",
    "\n",
    "#Splitting data into train validation and test set\n",
    "X_train, X_test, y_train, y_test = train_test_split(features, labels, test_size=0.4, random_state=42)\n",
    "X_test, X_val, y_test, y_val = train_test_split(X_test, y_test, test_size=0.5, random_state=42)"
   ]
  },
  {
   "cell_type": "code",
   "execution_count": 260,
   "id": "47c191ff",
   "metadata": {},
   "outputs": [
    {
     "name": "stdout",
     "output_type": "stream",
     "text": [
      "0.6\n",
      "0.2\n",
      "0.2\n"
     ]
    }
   ],
   "source": [
    "for dataset in [y_train, y_val, y_test]:\n",
    "    print(round(len(dataset) / len(labels), 2))"
   ]
  },
  {
   "cell_type": "markdown",
   "id": "334e9f9f",
   "metadata": {},
   "source": [
    "#### Here we can see that data is splitted into train, validation and test set with 60-20-20 ratio "
   ]
  },
  {
   "cell_type": "code",
   "execution_count": 352,
   "id": "f06fbe5f",
   "metadata": {},
   "outputs": [],
   "source": [
    "#writing out splitted data\n",
    "X_train.to_csv('C:/Users/Surya/Desktop/SURYA GEORGIAN/AIDI 1003 Machine learning frameworks/IRIS DATASET PROJECT 1/Traindata/train_features.csv', index=False)\n",
    "X_val.to_csv('C:/Users/Surya/Desktop/SURYA GEORGIAN/AIDI 1003 Machine learning frameworks/IRIS DATASET PROJECT 1/Traindata/val_features.csv', index=False)\n",
    "X_test.to_csv('C:/Users/Surya/Desktop/SURYA GEORGIAN/AIDI 1003 Machine learning frameworks/IRIS DATASET PROJECT 1/Traindata/test_features.csv', index=False)\n",
    "\n",
    "y_train.to_csv('C:/Users/Surya/Desktop/SURYA GEORGIAN/AIDI 1003 Machine learning frameworks/IRIS DATASET PROJECT 1/Traindata/train_labels.csv', index=False)\n",
    "y_val.to_csv('C:/Users/Surya/Desktop/SURYA GEORGIAN/AIDI 1003 Machine learning frameworks/IRIS DATASET PROJECT 1/Traindata/val_labels.csv', index=False)\n",
    "y_test.to_csv('C:/Users/Surya/Desktop/SURYA GEORGIAN/AIDI 1003 Machine learning frameworks/IRIS DATASET PROJECT 1/Traindata/test_labels.csv', index=False)\n"
   ]
  },
  {
   "cell_type": "markdown",
   "id": "57d0ec0a",
   "metadata": {},
   "source": [
    "## Implementing algorithms (LR , SVM and RF)"
   ]
  },
  {
   "cell_type": "code",
   "execution_count": 330,
   "id": "c5b8b616",
   "metadata": {},
   "outputs": [],
   "source": [
    "import joblib\n",
    "import pandas as pd\n",
    "from sklearn.linear_model import LogisticRegression\n",
    "from sklearn.model_selection import GridSearchCV\n",
    "import warnings\n",
    "warnings.filterwarnings('ignore', category=FutureWarning)\n",
    "warnings.filterwarnings('ignore', category=DeprecationWarning)\n",
    "\n",
    "#reading training data\n",
    "tr_features = pd.read_csv('C:/Users/Surya/Desktop/SURYA GEORGIAN/AIDI 1003 Machine learning frameworks/IRIS DATASET PROJECT 1/Traindata/train_features.csv')\n",
    "tr_labels = pd.read_csv('C:/Users/Surya/Desktop/SURYA GEORGIAN/AIDI 1003 Machine learning frameworks/IRIS DATASET PROJECT 1/Traindata/train_labels.csv')"
   ]
  },
  {
   "cell_type": "code",
   "execution_count": 331,
   "id": "bf4f7c98",
   "metadata": {},
   "outputs": [],
   "source": [
    "def print_results(results):\n",
    "    print('BEST PARAMS: {}\\n'.format(results.best_params_))\n",
    "\n",
    "    means = results.cv_results_['mean_test_score']\n",
    "    stds = results.cv_results_['std_test_score']\n",
    "    for mean, std, params in zip(means, stds, results.cv_results_['params']):\n",
    "        print('{} (+/-{}) for {}'.format(round(mean, 3), round(std * 2, 3), params))"
   ]
  },
  {
   "cell_type": "markdown",
   "id": "2d572eb5",
   "metadata": {},
   "source": [
    "## Implementing Logistic regression using K Fold Cross Validation and Grid Search"
   ]
  },
  {
   "cell_type": "code",
   "execution_count": 332,
   "id": "98449d4a",
   "metadata": {},
   "outputs": [
    {
     "name": "stderr",
     "output_type": "stream",
     "text": [
      "C:\\Users\\Surya\\anaconda3\\lib\\site-packages\\sklearn\\linear_model\\_logistic.py:814: ConvergenceWarning: lbfgs failed to converge (status=1):\n",
      "STOP: TOTAL NO. of ITERATIONS REACHED LIMIT.\n",
      "\n",
      "Increase the number of iterations (max_iter) or scale the data as shown in:\n",
      "    https://scikit-learn.org/stable/modules/preprocessing.html\n",
      "Please also refer to the documentation for alternative solver options:\n",
      "    https://scikit-learn.org/stable/modules/linear_model.html#logistic-regression\n",
      "  n_iter_i = _check_optimize_result(\n",
      "C:\\Users\\Surya\\anaconda3\\lib\\site-packages\\sklearn\\linear_model\\_logistic.py:814: ConvergenceWarning: lbfgs failed to converge (status=1):\n",
      "STOP: TOTAL NO. of ITERATIONS REACHED LIMIT.\n",
      "\n",
      "Increase the number of iterations (max_iter) or scale the data as shown in:\n",
      "    https://scikit-learn.org/stable/modules/preprocessing.html\n",
      "Please also refer to the documentation for alternative solver options:\n",
      "    https://scikit-learn.org/stable/modules/linear_model.html#logistic-regression\n",
      "  n_iter_i = _check_optimize_result(\n",
      "C:\\Users\\Surya\\anaconda3\\lib\\site-packages\\sklearn\\linear_model\\_logistic.py:814: ConvergenceWarning: lbfgs failed to converge (status=1):\n",
      "STOP: TOTAL NO. of ITERATIONS REACHED LIMIT.\n",
      "\n",
      "Increase the number of iterations (max_iter) or scale the data as shown in:\n",
      "    https://scikit-learn.org/stable/modules/preprocessing.html\n",
      "Please also refer to the documentation for alternative solver options:\n",
      "    https://scikit-learn.org/stable/modules/linear_model.html#logistic-regression\n",
      "  n_iter_i = _check_optimize_result(\n",
      "C:\\Users\\Surya\\anaconda3\\lib\\site-packages\\sklearn\\linear_model\\_logistic.py:814: ConvergenceWarning: lbfgs failed to converge (status=1):\n",
      "STOP: TOTAL NO. of ITERATIONS REACHED LIMIT.\n",
      "\n",
      "Increase the number of iterations (max_iter) or scale the data as shown in:\n",
      "    https://scikit-learn.org/stable/modules/preprocessing.html\n",
      "Please also refer to the documentation for alternative solver options:\n",
      "    https://scikit-learn.org/stable/modules/linear_model.html#logistic-regression\n",
      "  n_iter_i = _check_optimize_result(\n",
      "C:\\Users\\Surya\\anaconda3\\lib\\site-packages\\sklearn\\linear_model\\_logistic.py:814: ConvergenceWarning: lbfgs failed to converge (status=1):\n",
      "STOP: TOTAL NO. of ITERATIONS REACHED LIMIT.\n",
      "\n",
      "Increase the number of iterations (max_iter) or scale the data as shown in:\n",
      "    https://scikit-learn.org/stable/modules/preprocessing.html\n",
      "Please also refer to the documentation for alternative solver options:\n",
      "    https://scikit-learn.org/stable/modules/linear_model.html#logistic-regression\n",
      "  n_iter_i = _check_optimize_result(\n",
      "C:\\Users\\Surya\\anaconda3\\lib\\site-packages\\sklearn\\linear_model\\_logistic.py:814: ConvergenceWarning: lbfgs failed to converge (status=1):\n",
      "STOP: TOTAL NO. of ITERATIONS REACHED LIMIT.\n",
      "\n",
      "Increase the number of iterations (max_iter) or scale the data as shown in:\n",
      "    https://scikit-learn.org/stable/modules/preprocessing.html\n",
      "Please also refer to the documentation for alternative solver options:\n",
      "    https://scikit-learn.org/stable/modules/linear_model.html#logistic-regression\n",
      "  n_iter_i = _check_optimize_result(\n",
      "C:\\Users\\Surya\\anaconda3\\lib\\site-packages\\sklearn\\linear_model\\_logistic.py:814: ConvergenceWarning: lbfgs failed to converge (status=1):\n",
      "STOP: TOTAL NO. of ITERATIONS REACHED LIMIT.\n",
      "\n",
      "Increase the number of iterations (max_iter) or scale the data as shown in:\n",
      "    https://scikit-learn.org/stable/modules/preprocessing.html\n",
      "Please also refer to the documentation for alternative solver options:\n",
      "    https://scikit-learn.org/stable/modules/linear_model.html#logistic-regression\n",
      "  n_iter_i = _check_optimize_result(\n",
      "C:\\Users\\Surya\\anaconda3\\lib\\site-packages\\sklearn\\linear_model\\_logistic.py:814: ConvergenceWarning: lbfgs failed to converge (status=1):\n",
      "STOP: TOTAL NO. of ITERATIONS REACHED LIMIT.\n",
      "\n",
      "Increase the number of iterations (max_iter) or scale the data as shown in:\n",
      "    https://scikit-learn.org/stable/modules/preprocessing.html\n",
      "Please also refer to the documentation for alternative solver options:\n",
      "    https://scikit-learn.org/stable/modules/linear_model.html#logistic-regression\n",
      "  n_iter_i = _check_optimize_result(\n",
      "C:\\Users\\Surya\\anaconda3\\lib\\site-packages\\sklearn\\linear_model\\_logistic.py:814: ConvergenceWarning: lbfgs failed to converge (status=1):\n",
      "STOP: TOTAL NO. of ITERATIONS REACHED LIMIT.\n",
      "\n",
      "Increase the number of iterations (max_iter) or scale the data as shown in:\n",
      "    https://scikit-learn.org/stable/modules/preprocessing.html\n",
      "Please also refer to the documentation for alternative solver options:\n",
      "    https://scikit-learn.org/stable/modules/linear_model.html#logistic-regression\n",
      "  n_iter_i = _check_optimize_result(\n",
      "C:\\Users\\Surya\\anaconda3\\lib\\site-packages\\sklearn\\linear_model\\_logistic.py:814: ConvergenceWarning: lbfgs failed to converge (status=1):\n",
      "STOP: TOTAL NO. of ITERATIONS REACHED LIMIT.\n",
      "\n",
      "Increase the number of iterations (max_iter) or scale the data as shown in:\n",
      "    https://scikit-learn.org/stable/modules/preprocessing.html\n",
      "Please also refer to the documentation for alternative solver options:\n",
      "    https://scikit-learn.org/stable/modules/linear_model.html#logistic-regression\n",
      "  n_iter_i = _check_optimize_result(\n",
      "C:\\Users\\Surya\\anaconda3\\lib\\site-packages\\sklearn\\linear_model\\_logistic.py:814: ConvergenceWarning: lbfgs failed to converge (status=1):\n",
      "STOP: TOTAL NO. of ITERATIONS REACHED LIMIT.\n",
      "\n",
      "Increase the number of iterations (max_iter) or scale the data as shown in:\n",
      "    https://scikit-learn.org/stable/modules/preprocessing.html\n",
      "Please also refer to the documentation for alternative solver options:\n",
      "    https://scikit-learn.org/stable/modules/linear_model.html#logistic-regression\n",
      "  n_iter_i = _check_optimize_result(\n",
      "C:\\Users\\Surya\\anaconda3\\lib\\site-packages\\sklearn\\linear_model\\_logistic.py:814: ConvergenceWarning: lbfgs failed to converge (status=1):\n",
      "STOP: TOTAL NO. of ITERATIONS REACHED LIMIT.\n",
      "\n",
      "Increase the number of iterations (max_iter) or scale the data as shown in:\n",
      "    https://scikit-learn.org/stable/modules/preprocessing.html\n",
      "Please also refer to the documentation for alternative solver options:\n",
      "    https://scikit-learn.org/stable/modules/linear_model.html#logistic-regression\n",
      "  n_iter_i = _check_optimize_result(\n",
      "C:\\Users\\Surya\\anaconda3\\lib\\site-packages\\sklearn\\linear_model\\_logistic.py:814: ConvergenceWarning: lbfgs failed to converge (status=1):\n",
      "STOP: TOTAL NO. of ITERATIONS REACHED LIMIT.\n",
      "\n",
      "Increase the number of iterations (max_iter) or scale the data as shown in:\n",
      "    https://scikit-learn.org/stable/modules/preprocessing.html\n",
      "Please also refer to the documentation for alternative solver options:\n",
      "    https://scikit-learn.org/stable/modules/linear_model.html#logistic-regression\n",
      "  n_iter_i = _check_optimize_result(\n"
     ]
    },
    {
     "name": "stdout",
     "output_type": "stream",
     "text": [
      "BEST PARAMS: {'C': 1}\n",
      "\n",
      "0.622 (+/-0.333) for {'C': 0.001}\n",
      "0.833 (+/-0.199) for {'C': 0.01}\n",
      "0.911 (+/-0.166) for {'C': 0.1}\n",
      "0.944 (+/-0.172) for {'C': 1}\n",
      "0.944 (+/-0.122) for {'C': 10}\n",
      "0.944 (+/-0.172) for {'C': 100}\n",
      "0.944 (+/-0.172) for {'C': 1000}\n"
     ]
    },
    {
     "name": "stderr",
     "output_type": "stream",
     "text": [
      "C:\\Users\\Surya\\anaconda3\\lib\\site-packages\\sklearn\\linear_model\\_logistic.py:814: ConvergenceWarning: lbfgs failed to converge (status=1):\n",
      "STOP: TOTAL NO. of ITERATIONS REACHED LIMIT.\n",
      "\n",
      "Increase the number of iterations (max_iter) or scale the data as shown in:\n",
      "    https://scikit-learn.org/stable/modules/preprocessing.html\n",
      "Please also refer to the documentation for alternative solver options:\n",
      "    https://scikit-learn.org/stable/modules/linear_model.html#logistic-regression\n",
      "  n_iter_i = _check_optimize_result(\n",
      "C:\\Users\\Surya\\anaconda3\\lib\\site-packages\\sklearn\\linear_model\\_logistic.py:814: ConvergenceWarning: lbfgs failed to converge (status=1):\n",
      "STOP: TOTAL NO. of ITERATIONS REACHED LIMIT.\n",
      "\n",
      "Increase the number of iterations (max_iter) or scale the data as shown in:\n",
      "    https://scikit-learn.org/stable/modules/preprocessing.html\n",
      "Please also refer to the documentation for alternative solver options:\n",
      "    https://scikit-learn.org/stable/modules/linear_model.html#logistic-regression\n",
      "  n_iter_i = _check_optimize_result(\n",
      "C:\\Users\\Surya\\anaconda3\\lib\\site-packages\\sklearn\\linear_model\\_logistic.py:814: ConvergenceWarning: lbfgs failed to converge (status=1):\n",
      "STOP: TOTAL NO. of ITERATIONS REACHED LIMIT.\n",
      "\n",
      "Increase the number of iterations (max_iter) or scale the data as shown in:\n",
      "    https://scikit-learn.org/stable/modules/preprocessing.html\n",
      "Please also refer to the documentation for alternative solver options:\n",
      "    https://scikit-learn.org/stable/modules/linear_model.html#logistic-regression\n",
      "  n_iter_i = _check_optimize_result(\n",
      "C:\\Users\\Surya\\anaconda3\\lib\\site-packages\\sklearn\\linear_model\\_logistic.py:814: ConvergenceWarning: lbfgs failed to converge (status=1):\n",
      "STOP: TOTAL NO. of ITERATIONS REACHED LIMIT.\n",
      "\n",
      "Increase the number of iterations (max_iter) or scale the data as shown in:\n",
      "    https://scikit-learn.org/stable/modules/preprocessing.html\n",
      "Please also refer to the documentation for alternative solver options:\n",
      "    https://scikit-learn.org/stable/modules/linear_model.html#logistic-regression\n",
      "  n_iter_i = _check_optimize_result(\n",
      "C:\\Users\\Surya\\anaconda3\\lib\\site-packages\\sklearn\\linear_model\\_logistic.py:814: ConvergenceWarning: lbfgs failed to converge (status=1):\n",
      "STOP: TOTAL NO. of ITERATIONS REACHED LIMIT.\n",
      "\n",
      "Increase the number of iterations (max_iter) or scale the data as shown in:\n",
      "    https://scikit-learn.org/stable/modules/preprocessing.html\n",
      "Please also refer to the documentation for alternative solver options:\n",
      "    https://scikit-learn.org/stable/modules/linear_model.html#logistic-regression\n",
      "  n_iter_i = _check_optimize_result(\n"
     ]
    }
   ],
   "source": [
    "lr = LogisticRegression()\n",
    "parameters = {\n",
    "    'C': [0.001, 0.01, 0.1, 1, 10, 100, 1000] \n",
    "}\n",
    "\n",
    "cv = GridSearchCV(lr, parameters, cv=5)\n",
    "cv.fit(tr_features, tr_labels.values.ravel())\n",
    "\n",
    "print_results(cv)"
   ]
  },
  {
   "cell_type": "code",
   "execution_count": 333,
   "id": "5c21256e",
   "metadata": {},
   "outputs": [
    {
     "data": {
      "text/plain": [
       "LogisticRegression(C=1)"
      ]
     },
     "execution_count": 333,
     "metadata": {},
     "output_type": "execute_result"
    }
   ],
   "source": [
    "#printing out best estimator\n",
    "cv.best_estimator_"
   ]
  },
  {
   "cell_type": "code",
   "execution_count": 334,
   "id": "2b2e430a",
   "metadata": {},
   "outputs": [
    {
     "data": {
      "text/plain": [
       "['C:/Users/Surya/Desktop/SURYA GEORGIAN/AIDI 1003 Machine learning frameworks/IRIS DATASET PROJECT 1/Pickledmodel/LR_model.pkl']"
      ]
     },
     "execution_count": 334,
     "metadata": {},
     "output_type": "execute_result"
    }
   ],
   "source": [
    "#Pickling the best model using joblib\n",
    "joblib.dump(cv.best_estimator_, 'C:/Users/Surya/Desktop/SURYA GEORGIAN/AIDI 1003 Machine learning frameworks/IRIS DATASET PROJECT 1/Pickledmodel/LR_model.pkl')"
   ]
  },
  {
   "cell_type": "markdown",
   "id": "d45528a3",
   "metadata": {},
   "source": [
    "## Implementing SVM using K Fold Cross Validation and Grid Search"
   ]
  },
  {
   "cell_type": "code",
   "execution_count": 268,
   "id": "8dd02f27",
   "metadata": {},
   "outputs": [],
   "source": [
    "from sklearn.svm import SVC"
   ]
  },
  {
   "cell_type": "code",
   "execution_count": 337,
   "id": "7f762d57",
   "metadata": {},
   "outputs": [
    {
     "name": "stdout",
     "output_type": "stream",
     "text": [
      "BEST PARAMS: {'C': 1, 'kernel': 'linear'}\n",
      "\n",
      "0.922 (+/-0.113) for {'C': 0.1, 'kernel': 'linear'}\n",
      "0.8 (+/-0.218) for {'C': 0.1, 'kernel': 'rbf'}\n",
      "0.956 (+/-0.083) for {'C': 1, 'kernel': 'linear'}\n",
      "0.922 (+/-0.113) for {'C': 1, 'kernel': 'rbf'}\n",
      "0.933 (+/-0.109) for {'C': 10, 'kernel': 'linear'}\n",
      "0.944 (+/-0.07) for {'C': 10, 'kernel': 'rbf'}\n"
     ]
    }
   ],
   "source": [
    "svc = SVC()\n",
    "parameters = {\n",
    "    'kernel': ['linear', 'rbf'],\n",
    "    'C': [0.1, 1, 10]\n",
    "}\n",
    "\n",
    "cv = GridSearchCV(svc, parameters, cv=5)\n",
    "cv.fit(tr_features, tr_labels.values.ravel())\n",
    "\n",
    "print_results(cv)"
   ]
  },
  {
   "cell_type": "code",
   "execution_count": 338,
   "id": "935bada4",
   "metadata": {},
   "outputs": [
    {
     "data": {
      "text/plain": [
       "SVC(C=1, kernel='linear')"
      ]
     },
     "execution_count": 338,
     "metadata": {},
     "output_type": "execute_result"
    }
   ],
   "source": [
    "#printing out best estimator\n",
    "cv.best_estimator_"
   ]
  },
  {
   "cell_type": "code",
   "execution_count": 339,
   "id": "17315712",
   "metadata": {},
   "outputs": [
    {
     "data": {
      "text/plain": [
       "['C:/Users/Surya/Desktop/SURYA GEORGIAN/AIDI 1003 Machine learning frameworks/IRIS DATASET PROJECT 1/Pickledmodel/SVM_model.pkl']"
      ]
     },
     "execution_count": 339,
     "metadata": {},
     "output_type": "execute_result"
    }
   ],
   "source": [
    "#Pickling the best model using joblib\n",
    "joblib.dump(cv.best_estimator_, 'C:/Users/Surya/Desktop/SURYA GEORGIAN/AIDI 1003 Machine learning frameworks/IRIS DATASET PROJECT 1/Pickledmodel/SVM_model.pkl')"
   ]
  },
  {
   "cell_type": "markdown",
   "id": "2644a1da",
   "metadata": {},
   "source": [
    "## Implementing Random Forest using K Fold Cross Validation and Grid Search"
   ]
  },
  {
   "cell_type": "code",
   "execution_count": 272,
   "id": "3f188d34",
   "metadata": {},
   "outputs": [],
   "source": [
    "from sklearn.ensemble import RandomForestClassifier"
   ]
  },
  {
   "cell_type": "code",
   "execution_count": 340,
   "id": "82f5f8a7",
   "metadata": {},
   "outputs": [
    {
     "name": "stdout",
     "output_type": "stream",
     "text": [
      "BEST PARAMS: {'max_depth': 2, 'n_estimators': 5}\n",
      "\n",
      "0.933 (+/-0.163) for {'max_depth': 2, 'n_estimators': 5}\n",
      "0.911 (+/-0.194) for {'max_depth': 2, 'n_estimators': 50}\n",
      "0.922 (+/-0.206) for {'max_depth': 2, 'n_estimators': 250}\n",
      "0.922 (+/-0.206) for {'max_depth': 4, 'n_estimators': 5}\n",
      "0.933 (+/-0.215) for {'max_depth': 4, 'n_estimators': 50}\n",
      "0.933 (+/-0.215) for {'max_depth': 4, 'n_estimators': 250}\n",
      "0.9 (+/-0.178) for {'max_depth': 8, 'n_estimators': 5}\n",
      "0.911 (+/-0.194) for {'max_depth': 8, 'n_estimators': 50}\n",
      "0.911 (+/-0.194) for {'max_depth': 8, 'n_estimators': 250}\n",
      "0.911 (+/-0.194) for {'max_depth': 16, 'n_estimators': 5}\n",
      "0.922 (+/-0.206) for {'max_depth': 16, 'n_estimators': 50}\n",
      "0.922 (+/-0.206) for {'max_depth': 16, 'n_estimators': 250}\n",
      "0.922 (+/-0.151) for {'max_depth': 32, 'n_estimators': 5}\n",
      "0.911 (+/-0.194) for {'max_depth': 32, 'n_estimators': 50}\n",
      "0.933 (+/-0.215) for {'max_depth': 32, 'n_estimators': 250}\n",
      "0.933 (+/-0.215) for {'max_depth': None, 'n_estimators': 5}\n",
      "0.922 (+/-0.206) for {'max_depth': None, 'n_estimators': 50}\n",
      "0.933 (+/-0.215) for {'max_depth': None, 'n_estimators': 250}\n"
     ]
    }
   ],
   "source": [
    "rf = RandomForestClassifier()\n",
    "parameters = {\n",
    "    'n_estimators': [5, 50, 250],\n",
    "    'max_depth': [2, 4, 8, 16, 32, None]\n",
    "}\n",
    "\n",
    "cv = GridSearchCV(rf, parameters, cv=5)\n",
    "cv.fit(tr_features, tr_labels.values.ravel())\n",
    "\n",
    "print_results(cv)"
   ]
  },
  {
   "cell_type": "code",
   "execution_count": 341,
   "id": "2894472c",
   "metadata": {},
   "outputs": [
    {
     "data": {
      "text/plain": [
       "RandomForestClassifier(max_depth=2, n_estimators=5)"
      ]
     },
     "execution_count": 341,
     "metadata": {},
     "output_type": "execute_result"
    }
   ],
   "source": [
    "#printing out the best estimator\n",
    "cv.best_estimator_\n"
   ]
  },
  {
   "cell_type": "code",
   "execution_count": 343,
   "id": "69664f67",
   "metadata": {},
   "outputs": [
    {
     "data": {
      "text/plain": [
       "['C:/Users/Surya/Desktop/SURYA GEORGIAN/AIDI 1003 Machine learning frameworks/IRIS DATASET PROJECT 1/Pickledmodel/RF_model.pkl']"
      ]
     },
     "execution_count": 343,
     "metadata": {},
     "output_type": "execute_result"
    }
   ],
   "source": [
    "#Pickling the best model using joblib\n",
    "joblib.dump(cv.best_estimator_, 'C:/Users/Surya/Desktop/SURYA GEORGIAN/AIDI 1003 Machine learning frameworks/IRIS DATASET PROJECT 1/Pickledmodel/RF_model.pkl')"
   ]
  },
  {
   "cell_type": "markdown",
   "id": "533badef",
   "metadata": {},
   "source": [
    "## Using Precision, Recall, Accuracy and Latency to compare the performance of models"
   ]
  },
  {
   "cell_type": "code",
   "execution_count": 344,
   "id": "081e59da",
   "metadata": {},
   "outputs": [],
   "source": [
    "from sklearn.metrics import accuracy_score, precision_score, recall_score\n",
    "from time import time\n"
   ]
  },
  {
   "cell_type": "code",
   "execution_count": 345,
   "id": "c278d2a6",
   "metadata": {},
   "outputs": [],
   "source": [
    "models = {}\n",
    "\n",
    "for mdl in ['LR','SVM','RF']:\n",
    "    models[mdl] = joblib.load('C:/Users/Surya/Desktop/SURYA GEORGIAN/AIDI 1003 Machine learning frameworks/IRIS DATASET PROJECT 1/Pickledmodel/{}_model.pkl'.format(mdl))"
   ]
  },
  {
   "cell_type": "code",
   "execution_count": 346,
   "id": "f205ea70",
   "metadata": {},
   "outputs": [
    {
     "data": {
      "text/plain": [
       "{'LR': LogisticRegression(C=1),\n",
       " 'SVM': SVC(C=1, kernel='linear'),\n",
       " 'RF': RandomForestClassifier(max_depth=2, n_estimators=5)}"
      ]
     },
     "execution_count": 346,
     "metadata": {},
     "output_type": "execute_result"
    }
   ],
   "source": [
    "models"
   ]
  },
  {
   "cell_type": "code",
   "execution_count": 347,
   "id": "d83010c1",
   "metadata": {},
   "outputs": [],
   "source": [
    "#reading validation datasets\n",
    "val_features = pd.read_csv('C:/Users/Surya/Desktop/SURYA GEORGIAN/AIDI 1003 Machine learning frameworks/IRIS DATASET PROJECT 1/Traindata/val_features.csv')\n",
    "val_labels = pd.read_csv('C:/Users/Surya/Desktop/SURYA GEORGIAN/AIDI 1003 Machine learning frameworks/IRIS DATASET PROJECT 1/Traindata/val_labels.csv')"
   ]
  },
  {
   "cell_type": "code",
   "execution_count": 348,
   "id": "0e726138",
   "metadata": {},
   "outputs": [],
   "source": [
    "#function to evaluate models\n",
    "def evaluate_model(name, model, features, labels):\n",
    "    start = time()\n",
    "    pred = model.predict(features)\n",
    "    end = time()\n",
    "    accuracy = round(accuracy_score(labels, pred), 3)\n",
    "    precision = round(precision_score(labels, pred, average = 'weighted'), 3)\n",
    "    recall = round(recall_score(labels, pred, average = 'weighted'), 3)\n",
    "    print('{} -- Accuracy: {} / Precision: {} / Recall: {} / Latency: {}ms'.format(name,\n",
    "                                                                                   accuracy,\n",
    "                                                                                   precision,\n",
    "                                                                                   recall,\n",
    "                                                                                   round((end - start)*1000, 1)))"
   ]
  },
  {
   "cell_type": "code",
   "execution_count": 349,
   "id": "c699a8f9",
   "metadata": {},
   "outputs": [
    {
     "name": "stdout",
     "output_type": "stream",
     "text": [
      "LR -- Accuracy: 1.0 / Precision: 1.0 / Recall: 1.0 / Latency: 1.0ms\n",
      "SVM -- Accuracy: 1.0 / Precision: 1.0 / Recall: 1.0 / Latency: 1.0ms\n",
      "RF -- Accuracy: 0.967 / Precision: 0.969 / Recall: 0.967 / Latency: 2.0ms\n"
     ]
    }
   ],
   "source": [
    "#evaluating models on validation sets\n",
    "for name, mdl in models.items():\n",
    "    evaluate_model(name, mdl, val_features, val_labels)"
   ]
  },
  {
   "cell_type": "markdown",
   "id": "ee938831",
   "metadata": {},
   "source": [
    "### ..........................Results explanation at bottom......................................"
   ]
  },
  {
   "cell_type": "code",
   "execution_count": 282,
   "id": "d696d7c5",
   "metadata": {},
   "outputs": [],
   "source": [
    "#reading test datasets\n",
    "test_features = pd.read_csv('C:/Users/Surya/Desktop/SURYA GEORGIAN/AIDI 1003 Machine learning frameworks/IRIS DATASET PROJECT 1/Traindata/test_features.csv')\n",
    "test_labels = pd.read_csv('C:/Users/Surya/Desktop/SURYA GEORGIAN/AIDI 1003 Machine learning frameworks/IRIS DATASET PROJECT 1/Traindata/test_labels.csv')"
   ]
  },
  {
   "cell_type": "code",
   "execution_count": 350,
   "id": "3cdcb0a6",
   "metadata": {},
   "outputs": [
    {
     "name": "stdout",
     "output_type": "stream",
     "text": [
      "Logistic Regression -- Accuracy: 1.0 / Precision: 1.0 / Recall: 1.0 / Latency: 1.0ms\n"
     ]
    }
   ],
   "source": [
    "#Evaluating best performing model on test set\n",
    "evaluate_model('Logistic Regression', models['LR'], test_features, test_labels)"
   ]
  },
  {
   "cell_type": "markdown",
   "id": "68151f27",
   "metadata": {},
   "source": [
    "## Splitting Data into train, validation and test set (80-10-10 ratio)"
   ]
  },
  {
   "cell_type": "code",
   "execution_count": 351,
   "id": "da4f51dd",
   "metadata": {},
   "outputs": [
    {
     "data": {
      "text/html": [
       "<div>\n",
       "<style scoped>\n",
       "    .dataframe tbody tr th:only-of-type {\n",
       "        vertical-align: middle;\n",
       "    }\n",
       "\n",
       "    .dataframe tbody tr th {\n",
       "        vertical-align: top;\n",
       "    }\n",
       "\n",
       "    .dataframe thead th {\n",
       "        text-align: right;\n",
       "    }\n",
       "</style>\n",
       "<table border=\"1\" class=\"dataframe\">\n",
       "  <thead>\n",
       "    <tr style=\"text-align: right;\">\n",
       "      <th></th>\n",
       "      <th>sepal.length</th>\n",
       "      <th>sepal.width</th>\n",
       "      <th>petal.length</th>\n",
       "      <th>petal.width</th>\n",
       "      <th>variety</th>\n",
       "    </tr>\n",
       "  </thead>\n",
       "  <tbody>\n",
       "    <tr>\n",
       "      <th>0</th>\n",
       "      <td>5.1</td>\n",
       "      <td>3.5</td>\n",
       "      <td>1.4</td>\n",
       "      <td>0.2</td>\n",
       "      <td>0</td>\n",
       "    </tr>\n",
       "    <tr>\n",
       "      <th>1</th>\n",
       "      <td>4.9</td>\n",
       "      <td>3.0</td>\n",
       "      <td>1.4</td>\n",
       "      <td>0.2</td>\n",
       "      <td>0</td>\n",
       "    </tr>\n",
       "    <tr>\n",
       "      <th>2</th>\n",
       "      <td>4.7</td>\n",
       "      <td>3.2</td>\n",
       "      <td>1.3</td>\n",
       "      <td>0.2</td>\n",
       "      <td>0</td>\n",
       "    </tr>\n",
       "    <tr>\n",
       "      <th>3</th>\n",
       "      <td>4.6</td>\n",
       "      <td>3.1</td>\n",
       "      <td>1.5</td>\n",
       "      <td>0.2</td>\n",
       "      <td>0</td>\n",
       "    </tr>\n",
       "    <tr>\n",
       "      <th>4</th>\n",
       "      <td>5.0</td>\n",
       "      <td>3.6</td>\n",
       "      <td>1.4</td>\n",
       "      <td>0.2</td>\n",
       "      <td>0</td>\n",
       "    </tr>\n",
       "  </tbody>\n",
       "</table>\n",
       "</div>"
      ],
      "text/plain": [
       "   sepal.length  sepal.width  petal.length  petal.width  variety\n",
       "0           5.1          3.5           1.4          0.2        0\n",
       "1           4.9          3.0           1.4          0.2        0\n",
       "2           4.7          3.2           1.3          0.2        0\n",
       "3           4.6          3.1           1.5          0.2        0\n",
       "4           5.0          3.6           1.4          0.2        0"
      ]
     },
     "execution_count": 351,
     "metadata": {},
     "output_type": "execute_result"
    }
   ],
   "source": [
    "#importing train_test_split\n",
    "from sklearn.model_selection import train_test_split\n",
    "\n",
    "#reading encoded data\n",
    "iris_en = pd.read_csv('C:/Users/Surya/Desktop/SURYA GEORGIAN/AIDI 1003 Machine learning frameworks/IRIS DATASET PROJECT 1/encoded.csv')\n",
    "iris_en.head()"
   ]
  },
  {
   "cell_type": "code",
   "execution_count": 354,
   "id": "b7ca1bb9",
   "metadata": {},
   "outputs": [],
   "source": [
    "features = iris_en.drop('variety', axis=1)\n",
    "labels = iris_en['variety']\n",
    "\n",
    "#splitting data into train validation and test sets\n",
    "X_train, X_test, y_train, y_test = train_test_split(features, labels, test_size=0.2, random_state=42)\n",
    "X_test, X_val, y_test, y_val = train_test_split(X_test, y_test, test_size=0.5, random_state=42)"
   ]
  },
  {
   "cell_type": "code",
   "execution_count": 355,
   "id": "201bea05",
   "metadata": {},
   "outputs": [
    {
     "name": "stdout",
     "output_type": "stream",
     "text": [
      "0.8\n",
      "0.1\n",
      "0.1\n"
     ]
    }
   ],
   "source": [
    "for dataset in [y_train, y_val, y_test]:\n",
    "    print(round(len(dataset) / len(labels), 2))"
   ]
  },
  {
   "cell_type": "markdown",
   "id": "be63e21c",
   "metadata": {},
   "source": [
    "#### Here we can see that data is splitted into train, validation and test set with 80-10-10 ratio"
   ]
  },
  {
   "cell_type": "code",
   "execution_count": 356,
   "id": "41229d5c",
   "metadata": {},
   "outputs": [],
   "source": [
    "#writing out splitted data\n",
    "X_train.to_csv('C:/Users/Surya/Desktop/SURYA GEORGIAN/AIDI 1003 Machine learning frameworks/IRIS DATASET PROJECT 1/Traindata2/train_features.csv', index=False)\n",
    "X_val.to_csv('C:/Users/Surya/Desktop/SURYA GEORGIAN/AIDI 1003 Machine learning frameworks/IRIS DATASET PROJECT 1/Traindata2/val_features.csv', index=False)\n",
    "X_test.to_csv('C:/Users/Surya/Desktop/SURYA GEORGIAN/AIDI 1003 Machine learning frameworks/IRIS DATASET PROJECT 1/Traindata2/test_features.csv', index=False)\n",
    "\n",
    "y_train.to_csv('C:/Users/Surya/Desktop/SURYA GEORGIAN/AIDI 1003 Machine learning frameworks/IRIS DATASET PROJECT 1/Traindata2/train_labels.csv', index=False)\n",
    "y_val.to_csv('C:/Users/Surya/Desktop/SURYA GEORGIAN/AIDI 1003 Machine learning frameworks/IRIS DATASET PROJECT 1/Traindata2/val_labels.csv', index=False)\n",
    "y_test.to_csv('C:/Users/Surya/Desktop/SURYA GEORGIAN/AIDI 1003 Machine learning frameworks/IRIS DATASET PROJECT 1/Traindata2/test_labels.csv', index=False)"
   ]
  },
  {
   "cell_type": "markdown",
   "id": "77762fdd",
   "metadata": {},
   "source": [
    "## Implementing algorithms (LR , SVM and RF)"
   ]
  },
  {
   "cell_type": "code",
   "execution_count": 357,
   "id": "e87d74dd",
   "metadata": {},
   "outputs": [],
   "source": [
    "#importing joblib\n",
    "import joblib\n",
    "import pandas as pd\n",
    "from sklearn.linear_model import LogisticRegression\n",
    "from sklearn.model_selection import GridSearchCV\n",
    "import warnings\n",
    "warnings.filterwarnings('ignore', category=FutureWarning)\n",
    "warnings.filterwarnings('ignore', category=DeprecationWarning)\n",
    "\n",
    "#reading training data\n",
    "tr_features = pd.read_csv('C:/Users/Surya/Desktop/SURYA GEORGIAN/AIDI 1003 Machine learning frameworks/IRIS DATASET PROJECT 1/Traindata2/train_features.csv')\n",
    "tr_labels = pd.read_csv('C:/Users/Surya/Desktop/SURYA GEORGIAN/AIDI 1003 Machine learning frameworks/IRIS DATASET PROJECT 1/Traindata2/train_labels.csv')"
   ]
  },
  {
   "cell_type": "code",
   "execution_count": 358,
   "id": "de1d5290",
   "metadata": {},
   "outputs": [],
   "source": [
    "def print_results(results):\n",
    "    print('BEST PARAMS: {}\\n'.format(results.best_params_))\n",
    "\n",
    "    means = results.cv_results_['mean_test_score']\n",
    "    stds = results.cv_results_['std_test_score']\n",
    "    for mean, std, params in zip(means, stds, results.cv_results_['params']):\n",
    "        print('{} (+/-{}) for {}'.format(round(mean, 3), round(std * 2, 3), params))"
   ]
  },
  {
   "cell_type": "markdown",
   "id": "6c54a268",
   "metadata": {},
   "source": [
    "## Implementing Logistic regression using K Fold Cross Validation and Grid Search"
   ]
  },
  {
   "cell_type": "code",
   "execution_count": 359,
   "id": "70f79c97",
   "metadata": {},
   "outputs": [
    {
     "name": "stderr",
     "output_type": "stream",
     "text": [
      "C:\\Users\\Surya\\anaconda3\\lib\\site-packages\\sklearn\\linear_model\\_logistic.py:814: ConvergenceWarning: lbfgs failed to converge (status=1):\n",
      "STOP: TOTAL NO. of ITERATIONS REACHED LIMIT.\n",
      "\n",
      "Increase the number of iterations (max_iter) or scale the data as shown in:\n",
      "    https://scikit-learn.org/stable/modules/preprocessing.html\n",
      "Please also refer to the documentation for alternative solver options:\n",
      "    https://scikit-learn.org/stable/modules/linear_model.html#logistic-regression\n",
      "  n_iter_i = _check_optimize_result(\n",
      "C:\\Users\\Surya\\anaconda3\\lib\\site-packages\\sklearn\\linear_model\\_logistic.py:814: ConvergenceWarning: lbfgs failed to converge (status=1):\n",
      "STOP: TOTAL NO. of ITERATIONS REACHED LIMIT.\n",
      "\n",
      "Increase the number of iterations (max_iter) or scale the data as shown in:\n",
      "    https://scikit-learn.org/stable/modules/preprocessing.html\n",
      "Please also refer to the documentation for alternative solver options:\n",
      "    https://scikit-learn.org/stable/modules/linear_model.html#logistic-regression\n",
      "  n_iter_i = _check_optimize_result(\n",
      "C:\\Users\\Surya\\anaconda3\\lib\\site-packages\\sklearn\\linear_model\\_logistic.py:814: ConvergenceWarning: lbfgs failed to converge (status=1):\n",
      "STOP: TOTAL NO. of ITERATIONS REACHED LIMIT.\n",
      "\n",
      "Increase the number of iterations (max_iter) or scale the data as shown in:\n",
      "    https://scikit-learn.org/stable/modules/preprocessing.html\n",
      "Please also refer to the documentation for alternative solver options:\n",
      "    https://scikit-learn.org/stable/modules/linear_model.html#logistic-regression\n",
      "  n_iter_i = _check_optimize_result(\n",
      "C:\\Users\\Surya\\anaconda3\\lib\\site-packages\\sklearn\\linear_model\\_logistic.py:814: ConvergenceWarning: lbfgs failed to converge (status=1):\n",
      "STOP: TOTAL NO. of ITERATIONS REACHED LIMIT.\n",
      "\n",
      "Increase the number of iterations (max_iter) or scale the data as shown in:\n",
      "    https://scikit-learn.org/stable/modules/preprocessing.html\n",
      "Please also refer to the documentation for alternative solver options:\n",
      "    https://scikit-learn.org/stable/modules/linear_model.html#logistic-regression\n",
      "  n_iter_i = _check_optimize_result(\n",
      "C:\\Users\\Surya\\anaconda3\\lib\\site-packages\\sklearn\\linear_model\\_logistic.py:814: ConvergenceWarning: lbfgs failed to converge (status=1):\n",
      "STOP: TOTAL NO. of ITERATIONS REACHED LIMIT.\n",
      "\n",
      "Increase the number of iterations (max_iter) or scale the data as shown in:\n",
      "    https://scikit-learn.org/stable/modules/preprocessing.html\n",
      "Please also refer to the documentation for alternative solver options:\n",
      "    https://scikit-learn.org/stable/modules/linear_model.html#logistic-regression\n",
      "  n_iter_i = _check_optimize_result(\n",
      "C:\\Users\\Surya\\anaconda3\\lib\\site-packages\\sklearn\\linear_model\\_logistic.py:814: ConvergenceWarning: lbfgs failed to converge (status=1):\n",
      "STOP: TOTAL NO. of ITERATIONS REACHED LIMIT.\n",
      "\n",
      "Increase the number of iterations (max_iter) or scale the data as shown in:\n",
      "    https://scikit-learn.org/stable/modules/preprocessing.html\n",
      "Please also refer to the documentation for alternative solver options:\n",
      "    https://scikit-learn.org/stable/modules/linear_model.html#logistic-regression\n",
      "  n_iter_i = _check_optimize_result(\n",
      "C:\\Users\\Surya\\anaconda3\\lib\\site-packages\\sklearn\\linear_model\\_logistic.py:814: ConvergenceWarning: lbfgs failed to converge (status=1):\n",
      "STOP: TOTAL NO. of ITERATIONS REACHED LIMIT.\n",
      "\n",
      "Increase the number of iterations (max_iter) or scale the data as shown in:\n",
      "    https://scikit-learn.org/stable/modules/preprocessing.html\n",
      "Please also refer to the documentation for alternative solver options:\n",
      "    https://scikit-learn.org/stable/modules/linear_model.html#logistic-regression\n",
      "  n_iter_i = _check_optimize_result(\n",
      "C:\\Users\\Surya\\anaconda3\\lib\\site-packages\\sklearn\\linear_model\\_logistic.py:814: ConvergenceWarning: lbfgs failed to converge (status=1):\n",
      "STOP: TOTAL NO. of ITERATIONS REACHED LIMIT.\n",
      "\n",
      "Increase the number of iterations (max_iter) or scale the data as shown in:\n",
      "    https://scikit-learn.org/stable/modules/preprocessing.html\n",
      "Please also refer to the documentation for alternative solver options:\n",
      "    https://scikit-learn.org/stable/modules/linear_model.html#logistic-regression\n",
      "  n_iter_i = _check_optimize_result(\n",
      "C:\\Users\\Surya\\anaconda3\\lib\\site-packages\\sklearn\\linear_model\\_logistic.py:814: ConvergenceWarning: lbfgs failed to converge (status=1):\n",
      "STOP: TOTAL NO. of ITERATIONS REACHED LIMIT.\n",
      "\n",
      "Increase the number of iterations (max_iter) or scale the data as shown in:\n",
      "    https://scikit-learn.org/stable/modules/preprocessing.html\n",
      "Please also refer to the documentation for alternative solver options:\n",
      "    https://scikit-learn.org/stable/modules/linear_model.html#logistic-regression\n",
      "  n_iter_i = _check_optimize_result(\n",
      "C:\\Users\\Surya\\anaconda3\\lib\\site-packages\\sklearn\\linear_model\\_logistic.py:814: ConvergenceWarning: lbfgs failed to converge (status=1):\n",
      "STOP: TOTAL NO. of ITERATIONS REACHED LIMIT.\n",
      "\n",
      "Increase the number of iterations (max_iter) or scale the data as shown in:\n",
      "    https://scikit-learn.org/stable/modules/preprocessing.html\n",
      "Please also refer to the documentation for alternative solver options:\n",
      "    https://scikit-learn.org/stable/modules/linear_model.html#logistic-regression\n",
      "  n_iter_i = _check_optimize_result(\n",
      "C:\\Users\\Surya\\anaconda3\\lib\\site-packages\\sklearn\\linear_model\\_logistic.py:814: ConvergenceWarning: lbfgs failed to converge (status=1):\n",
      "STOP: TOTAL NO. of ITERATIONS REACHED LIMIT.\n",
      "\n",
      "Increase the number of iterations (max_iter) or scale the data as shown in:\n",
      "    https://scikit-learn.org/stable/modules/preprocessing.html\n",
      "Please also refer to the documentation for alternative solver options:\n",
      "    https://scikit-learn.org/stable/modules/linear_model.html#logistic-regression\n",
      "  n_iter_i = _check_optimize_result(\n",
      "C:\\Users\\Surya\\anaconda3\\lib\\site-packages\\sklearn\\linear_model\\_logistic.py:814: ConvergenceWarning: lbfgs failed to converge (status=1):\n",
      "STOP: TOTAL NO. of ITERATIONS REACHED LIMIT.\n",
      "\n",
      "Increase the number of iterations (max_iter) or scale the data as shown in:\n",
      "    https://scikit-learn.org/stable/modules/preprocessing.html\n",
      "Please also refer to the documentation for alternative solver options:\n",
      "    https://scikit-learn.org/stable/modules/linear_model.html#logistic-regression\n",
      "  n_iter_i = _check_optimize_result(\n"
     ]
    },
    {
     "name": "stdout",
     "output_type": "stream",
     "text": [
      "BEST PARAMS: {'C': 1}\n",
      "\n",
      "0.817 (+/-0.201) for {'C': 0.001}\n",
      "0.858 (+/-0.194) for {'C': 0.01}\n",
      "0.933 (+/-0.113) for {'C': 0.1}\n",
      "0.967 (+/-0.097) for {'C': 1}\n",
      "0.942 (+/-0.113) for {'C': 10}\n",
      "0.95 (+/-0.122) for {'C': 100}\n",
      "0.95 (+/-0.122) for {'C': 1000}\n"
     ]
    },
    {
     "name": "stderr",
     "output_type": "stream",
     "text": [
      "C:\\Users\\Surya\\anaconda3\\lib\\site-packages\\sklearn\\linear_model\\_logistic.py:814: ConvergenceWarning: lbfgs failed to converge (status=1):\n",
      "STOP: TOTAL NO. of ITERATIONS REACHED LIMIT.\n",
      "\n",
      "Increase the number of iterations (max_iter) or scale the data as shown in:\n",
      "    https://scikit-learn.org/stable/modules/preprocessing.html\n",
      "Please also refer to the documentation for alternative solver options:\n",
      "    https://scikit-learn.org/stable/modules/linear_model.html#logistic-regression\n",
      "  n_iter_i = _check_optimize_result(\n",
      "C:\\Users\\Surya\\anaconda3\\lib\\site-packages\\sklearn\\linear_model\\_logistic.py:814: ConvergenceWarning: lbfgs failed to converge (status=1):\n",
      "STOP: TOTAL NO. of ITERATIONS REACHED LIMIT.\n",
      "\n",
      "Increase the number of iterations (max_iter) or scale the data as shown in:\n",
      "    https://scikit-learn.org/stable/modules/preprocessing.html\n",
      "Please also refer to the documentation for alternative solver options:\n",
      "    https://scikit-learn.org/stable/modules/linear_model.html#logistic-regression\n",
      "  n_iter_i = _check_optimize_result(\n",
      "C:\\Users\\Surya\\anaconda3\\lib\\site-packages\\sklearn\\linear_model\\_logistic.py:814: ConvergenceWarning: lbfgs failed to converge (status=1):\n",
      "STOP: TOTAL NO. of ITERATIONS REACHED LIMIT.\n",
      "\n",
      "Increase the number of iterations (max_iter) or scale the data as shown in:\n",
      "    https://scikit-learn.org/stable/modules/preprocessing.html\n",
      "Please also refer to the documentation for alternative solver options:\n",
      "    https://scikit-learn.org/stable/modules/linear_model.html#logistic-regression\n",
      "  n_iter_i = _check_optimize_result(\n",
      "C:\\Users\\Surya\\anaconda3\\lib\\site-packages\\sklearn\\linear_model\\_logistic.py:814: ConvergenceWarning: lbfgs failed to converge (status=1):\n",
      "STOP: TOTAL NO. of ITERATIONS REACHED LIMIT.\n",
      "\n",
      "Increase the number of iterations (max_iter) or scale the data as shown in:\n",
      "    https://scikit-learn.org/stable/modules/preprocessing.html\n",
      "Please also refer to the documentation for alternative solver options:\n",
      "    https://scikit-learn.org/stable/modules/linear_model.html#logistic-regression\n",
      "  n_iter_i = _check_optimize_result(\n",
      "C:\\Users\\Surya\\anaconda3\\lib\\site-packages\\sklearn\\linear_model\\_logistic.py:814: ConvergenceWarning: lbfgs failed to converge (status=1):\n",
      "STOP: TOTAL NO. of ITERATIONS REACHED LIMIT.\n",
      "\n",
      "Increase the number of iterations (max_iter) or scale the data as shown in:\n",
      "    https://scikit-learn.org/stable/modules/preprocessing.html\n",
      "Please also refer to the documentation for alternative solver options:\n",
      "    https://scikit-learn.org/stable/modules/linear_model.html#logistic-regression\n",
      "  n_iter_i = _check_optimize_result(\n"
     ]
    }
   ],
   "source": [
    "lr = LogisticRegression()\n",
    "parameters = {\n",
    "    'C': [0.001, 0.01, 0.1, 1, 10, 100, 1000]\n",
    "}\n",
    "\n",
    "cv = GridSearchCV(lr, parameters, cv=5)\n",
    "cv.fit(tr_features, tr_labels.values.ravel())\n",
    "\n",
    "print_results(cv)"
   ]
  },
  {
   "cell_type": "code",
   "execution_count": 293,
   "id": "7e610238",
   "metadata": {},
   "outputs": [
    {
     "data": {
      "text/plain": [
       "LogisticRegression(C=1)"
      ]
     },
     "execution_count": 293,
     "metadata": {},
     "output_type": "execute_result"
    }
   ],
   "source": [
    "#printing out the best estimator\n",
    "cv.best_estimator_"
   ]
  },
  {
   "cell_type": "code",
   "execution_count": 360,
   "id": "06e14941",
   "metadata": {},
   "outputs": [
    {
     "data": {
      "text/plain": [
       "['C:/Users/Surya/Desktop/SURYA GEORGIAN/AIDI 1003 Machine learning frameworks/IRIS DATASET PROJECT 1/Pickledmodel2/LR_model.pkl']"
      ]
     },
     "execution_count": 360,
     "metadata": {},
     "output_type": "execute_result"
    }
   ],
   "source": [
    "#Pickling the best model using joblib\n",
    "joblib.dump(cv.best_estimator_, 'C:/Users/Surya/Desktop/SURYA GEORGIAN/AIDI 1003 Machine learning frameworks/IRIS DATASET PROJECT 1/Pickledmodel2/LR_model.pkl')"
   ]
  },
  {
   "cell_type": "markdown",
   "id": "3021aefa",
   "metadata": {},
   "source": [
    "## Implementing Random Forest using K Fold Cross Validation and Grid Search"
   ]
  },
  {
   "cell_type": "code",
   "execution_count": 361,
   "id": "5d560c52",
   "metadata": {},
   "outputs": [],
   "source": [
    "from sklearn.ensemble import RandomForestClassifier"
   ]
  },
  {
   "cell_type": "code",
   "execution_count": 362,
   "id": "c1b627ec",
   "metadata": {},
   "outputs": [
    {
     "name": "stdout",
     "output_type": "stream",
     "text": [
      "BEST PARAMS: {'max_depth': 16, 'n_estimators': 50}\n",
      "\n",
      "0.95 (+/-0.122) for {'max_depth': 2, 'n_estimators': 5}\n",
      "0.942 (+/-0.155) for {'max_depth': 2, 'n_estimators': 50}\n",
      "0.925 (+/-0.143) for {'max_depth': 2, 'n_estimators': 250}\n",
      "0.917 (+/-0.129) for {'max_depth': 4, 'n_estimators': 5}\n",
      "0.942 (+/-0.113) for {'max_depth': 4, 'n_estimators': 50}\n",
      "0.95 (+/-0.122) for {'max_depth': 4, 'n_estimators': 250}\n",
      "0.942 (+/-0.113) for {'max_depth': 8, 'n_estimators': 5}\n",
      "0.95 (+/-0.122) for {'max_depth': 8, 'n_estimators': 50}\n",
      "0.95 (+/-0.082) for {'max_depth': 8, 'n_estimators': 250}\n",
      "0.942 (+/-0.113) for {'max_depth': 16, 'n_estimators': 5}\n",
      "0.958 (+/-0.091) for {'max_depth': 16, 'n_estimators': 50}\n",
      "0.958 (+/-0.091) for {'max_depth': 16, 'n_estimators': 250}\n",
      "0.942 (+/-0.113) for {'max_depth': 32, 'n_estimators': 5}\n",
      "0.95 (+/-0.122) for {'max_depth': 32, 'n_estimators': 50}\n",
      "0.942 (+/-0.113) for {'max_depth': 32, 'n_estimators': 250}\n",
      "0.95 (+/-0.122) for {'max_depth': None, 'n_estimators': 5}\n",
      "0.95 (+/-0.122) for {'max_depth': None, 'n_estimators': 50}\n",
      "0.933 (+/-0.145) for {'max_depth': None, 'n_estimators': 250}\n"
     ]
    }
   ],
   "source": [
    "rf = RandomForestClassifier()\n",
    "parameters = {\n",
    "    'n_estimators': [5, 50, 250],\n",
    "    'max_depth': [2, 4, 8, 16, 32, None]\n",
    "}\n",
    "\n",
    "cv = GridSearchCV(rf, parameters, cv=5)\n",
    "cv.fit(tr_features, tr_labels.values.ravel())\n",
    "\n",
    "print_results(cv)"
   ]
  },
  {
   "cell_type": "code",
   "execution_count": 363,
   "id": "c2b37fc5",
   "metadata": {},
   "outputs": [
    {
     "data": {
      "text/plain": [
       "RandomForestClassifier(max_depth=16, n_estimators=50)"
      ]
     },
     "execution_count": 363,
     "metadata": {},
     "output_type": "execute_result"
    }
   ],
   "source": [
    "#printing out best estimator\n",
    "cv.best_estimator_"
   ]
  },
  {
   "cell_type": "code",
   "execution_count": 364,
   "id": "2b8b72a9",
   "metadata": {},
   "outputs": [
    {
     "data": {
      "text/plain": [
       "['C:/Users/Surya/Desktop/SURYA GEORGIAN/AIDI 1003 Machine learning frameworks/IRIS DATASET PROJECT 1/Pickledmodel2/RF_model.pkl']"
      ]
     },
     "execution_count": 364,
     "metadata": {},
     "output_type": "execute_result"
    }
   ],
   "source": [
    "#Pickling the best model using joblib\n",
    "joblib.dump(cv.best_estimator_, 'C:/Users/Surya/Desktop/SURYA GEORGIAN/AIDI 1003 Machine learning frameworks/IRIS DATASET PROJECT 1/Pickledmodel2/RF_model.pkl')"
   ]
  },
  {
   "cell_type": "markdown",
   "id": "3bb135de",
   "metadata": {},
   "source": [
    "## Implementing SVM using K Fold Cross Validation and Grid Search"
   ]
  },
  {
   "cell_type": "code",
   "execution_count": 365,
   "id": "9dc6eb42",
   "metadata": {},
   "outputs": [],
   "source": [
    "from sklearn.svm import SVC"
   ]
  },
  {
   "cell_type": "code",
   "execution_count": 366,
   "id": "324ca8f4",
   "metadata": {},
   "outputs": [
    {
     "name": "stdout",
     "output_type": "stream",
     "text": [
      "BEST PARAMS: {'C': 1, 'kernel': 'linear'}\n",
      "\n",
      "0.942 (+/-0.125) for {'C': 0.1, 'kernel': 'linear'}\n",
      "0.892 (+/-0.155) for {'C': 0.1, 'kernel': 'rbf'}\n",
      "0.958 (+/-0.091) for {'C': 1, 'kernel': 'linear'}\n",
      "0.95 (+/-0.122) for {'C': 1, 'kernel': 'rbf'}\n",
      "0.95 (+/-0.122) for {'C': 10, 'kernel': 'linear'}\n",
      "0.95 (+/-0.122) for {'C': 10, 'kernel': 'rbf'}\n"
     ]
    }
   ],
   "source": [
    "svc = SVC()\n",
    "parameters = {\n",
    "    'kernel': ['linear', 'rbf'],\n",
    "    'C': [0.1, 1, 10]\n",
    "}\n",
    "\n",
    "cv = GridSearchCV(svc, parameters, cv=5)\n",
    "cv.fit(tr_features, tr_labels.values.ravel())\n",
    "\n",
    "print_results(cv)"
   ]
  },
  {
   "cell_type": "code",
   "execution_count": 367,
   "id": "2aa8d88e",
   "metadata": {},
   "outputs": [
    {
     "data": {
      "text/plain": [
       "SVC(C=1, kernel='linear')"
      ]
     },
     "execution_count": 367,
     "metadata": {},
     "output_type": "execute_result"
    }
   ],
   "source": [
    "#printing out the best estimator\n",
    "cv.best_estimator_"
   ]
  },
  {
   "cell_type": "code",
   "execution_count": 368,
   "id": "1c3a0ac4",
   "metadata": {},
   "outputs": [
    {
     "data": {
      "text/plain": [
       "['C:/Users/Surya/Desktop/SURYA GEORGIAN/AIDI 1003 Machine learning frameworks/IRIS DATASET PROJECT 1/Pickledmodel2/SVM_model.pkl']"
      ]
     },
     "execution_count": 368,
     "metadata": {},
     "output_type": "execute_result"
    }
   ],
   "source": [
    "#pickling the best model using joblib\n",
    "joblib.dump(cv.best_estimator_, 'C:/Users/Surya/Desktop/SURYA GEORGIAN/AIDI 1003 Machine learning frameworks/IRIS DATASET PROJECT 1/Pickledmodel2/SVM_model.pkl')"
   ]
  },
  {
   "cell_type": "markdown",
   "id": "345d539a",
   "metadata": {},
   "source": [
    "## Using Precision, Recall, Accuracy and Latency to compare the performance of models"
   ]
  },
  {
   "cell_type": "code",
   "execution_count": 304,
   "id": "bd68fef6",
   "metadata": {},
   "outputs": [],
   "source": [
    "from sklearn.metrics import accuracy_score, precision_score, recall_score\n",
    "from time import time"
   ]
  },
  {
   "cell_type": "code",
   "execution_count": 370,
   "id": "9ae74f18",
   "metadata": {},
   "outputs": [],
   "source": [
    "models = {}\n",
    "\n",
    "for mdl in ['LR','SVM','RF']:\n",
    "    models[mdl] = joblib.load('C:/Users/Surya/Desktop/SURYA GEORGIAN/AIDI 1003 Machine learning frameworks/IRIS DATASET PROJECT 1/Pickledmodel2/{}_model.pkl'.format(mdl))"
   ]
  },
  {
   "cell_type": "code",
   "execution_count": 371,
   "id": "686185bb",
   "metadata": {},
   "outputs": [
    {
     "data": {
      "text/plain": [
       "{'LR': LogisticRegression(C=1),\n",
       " 'SVM': SVC(C=1, kernel='linear'),\n",
       " 'RF': RandomForestClassifier(max_depth=16, n_estimators=50)}"
      ]
     },
     "execution_count": 371,
     "metadata": {},
     "output_type": "execute_result"
    }
   ],
   "source": [
    "models"
   ]
  },
  {
   "cell_type": "code",
   "execution_count": 307,
   "id": "14156d6b",
   "metadata": {},
   "outputs": [],
   "source": [
    "#reading validation dataset\n",
    "val_features = pd.read_csv('C:/Users/Surya/Desktop/SURYA GEORGIAN/AIDI 1003 Machine learning frameworks/IRIS DATASET PROJECT 1/Traindata2/val_features.csv')\n",
    "val_labels = pd.read_csv('C:/Users/Surya/Desktop/SURYA GEORGIAN/AIDI 1003 Machine learning frameworks/IRIS DATASET PROJECT 1/Traindata2/val_labels.csv')"
   ]
  },
  {
   "cell_type": "markdown",
   "id": "1b3de7dd",
   "metadata": {},
   "source": [
    "#function to evalaute model\n",
    "def evaluate_model(name, model, features, labels):\n",
    "    start = time()\n",
    "    pred = model.predict(features)\n",
    "    end = time()\n",
    "    accuracy = round(accuracy_score(labels, pred), 3)\n",
    "    precision = round(precision_score(labels, pred, average = 'weighted'), 3)\n",
    "    recall = round(recall_score(labels, pred, average = 'weighted'), 3)\n",
    "    print('{} -- Accuracy: {} / Precision: {} / Recall: {} / Latency: {}ms'.format(name,\n",
    "                                                                                   accuracy,\n",
    "                                                                                   precision,\n",
    "                                                                                   recall,\n",
    "                                                                                   round((end - start)*1000, 1)))"
   ]
  },
  {
   "cell_type": "code",
   "execution_count": 373,
   "id": "4b83bc65",
   "metadata": {},
   "outputs": [
    {
     "name": "stdout",
     "output_type": "stream",
     "text": [
      "LR -- Accuracy: 1.0 / Precision: 1.0 / Recall: 1.0 / Latency: 1.0ms\n",
      "SVM -- Accuracy: 1.0 / Precision: 1.0 / Recall: 1.0 / Latency: 1.0ms\n",
      "RF -- Accuracy: 1.0 / Precision: 1.0 / Recall: 1.0 / Latency: 3.0ms\n"
     ]
    }
   ],
   "source": [
    "#evaluating models\n",
    "for name, mdl in models.items():\n",
    "    evaluate_model(name, mdl, val_features, val_labels)"
   ]
  },
  {
   "cell_type": "markdown",
   "id": "4169427a",
   "metadata": {},
   "source": [
    "### ..........................Results explanation at bottom......................................"
   ]
  },
  {
   "cell_type": "code",
   "execution_count": 376,
   "id": "803bdb9d",
   "metadata": {},
   "outputs": [],
   "source": [
    "#reading test datasets\n",
    "test_features = pd.read_csv('C:/Users/Surya/Desktop/SURYA GEORGIAN/AIDI 1003 Machine learning frameworks/IRIS DATASET PROJECT 1/Traindata2/test_features.csv')\n",
    "test_labels = pd.read_csv('C:/Users/Surya/Desktop/SURYA GEORGIAN/AIDI 1003 Machine learning frameworks/IRIS DATASET PROJECT 1/Traindata2/test_labels.csv')"
   ]
  },
  {
   "cell_type": "code",
   "execution_count": 377,
   "id": "db9e3ad4",
   "metadata": {},
   "outputs": [
    {
     "name": "stdout",
     "output_type": "stream",
     "text": [
      "Logistic Regression -- Accuracy: 1.0 / Precision: 1.0 / Recall: 1.0 / Latency: 1.0ms\n"
     ]
    }
   ],
   "source": [
    "#evaluating best performing model on test set\n",
    "evaluate_model('Logistic Regression', models['LR'], test_features, test_labels)"
   ]
  },
  {
   "cell_type": "markdown",
   "id": "c091e3da",
   "metadata": {},
   "source": [
    "# Explanation of results:"
   ]
  },
  {
   "cell_type": "markdown",
   "id": "b584a9d3",
   "metadata": {},
   "source": [
    "## Best models with 60-20-20 ratio splits\n",
    "LR -- Accuracy: 1.0 / Precision: 1.0 / Recall: 1.0 / Latency: 1.0ms\n",
    "\n",
    "SVM -- Accuracy: 1.0 / Precision: 1.0 / Recall: 1.0 / Latency: 1.0ms\n",
    "\n",
    "RF -- Accuracy: 0.967 / Precision: 0.969 / Recall: 0.967 / Latency: 2.0ms"
   ]
  },
  {
   "cell_type": "markdown",
   "id": "8fa492b2",
   "metadata": {},
   "source": [
    "## Best models with 80-10-10 ratio splits\n",
    "LR -- Accuracy: 1.0 / Precision: 1.0 / Recall: 1.0 / Latency: 1.0ms\n",
    "\n",
    "SVM -- Accuracy: 1.0 / Precision: 1.0 / Recall: 1.0 / Latency: 1.0ms\n",
    "\n",
    "RF -- Accuracy: 1.0 / Precision: 1.0 / Recall: 1.0 / Latency: 3.0ms"
   ]
  },
  {
   "cell_type": "markdown",
   "id": "2a00ee7f",
   "metadata": {},
   "source": [
    "We can see that in 60-20-20 data split, Logistic Regression and SVM gives similar results for Accuracy, Precision, Recall and Latency.\n",
    "\n",
    "They both are giving value of Accuracy, Precision,and Recall as 1.0 which shows that our models are overfitting on data i.e, models are memorizing the training datasets instead of learning the underlying patterns.\n",
    "\n",
    "This overfitting indicates that these are models are too complex for small size and quality of dataset.\n",
    "\n",
    "Moreover, Logistic regression and SVM tends to overfit if relationship between target variable and feature variables is not truly linear but We cant say surely if that is the case here.\n",
    "\n",
    "Overfitting can be tackled by regularization techniques or by using simple models with fewer parameters.\n",
    "\n",
    "I tried to regularize the model by adding penalty term (l2 in case of LR) to loss function and by changing the value of 'c' paramter in function but there was no significant change in the results. \n",
    "\n",
    "In 60-20-20 split we can see that Random Forest is generating some other values of Accuracy, precision and recall which shows RF is might be able to capture the underlying trend in data without overfitting.\n",
    "\n",
    "Moreover with 80-10-10 splits we can see that all the models even RF are generationg 1.0 as the value for Accuracy, Precison, and recall which again suggest that models are overfitting on data due to their complexity and small size of dataset.\n",
    "\n",
    "By comparing all the models from both the splits right now we can say that LR is performing best as it is giving best value of Accuracy, Precison, recall and latency compared to others. However it is mostprobably overfitting as the value is 1.0 \n",
    "\n",
    "To determine the best model we have to avoid overfitting, which can be acheived by obtaing more training data so that we can better capture the relationship in data.\n",
    "\n"
   ]
  },
  {
   "cell_type": "code",
   "execution_count": null,
   "id": "cd7ef6ee",
   "metadata": {},
   "outputs": [],
   "source": []
  }
 ],
 "metadata": {
  "kernelspec": {
   "display_name": "Python 3 (ipykernel)",
   "language": "python",
   "name": "python3"
  },
  "language_info": {
   "codemirror_mode": {
    "name": "ipython",
    "version": 3
   },
   "file_extension": ".py",
   "mimetype": "text/x-python",
   "name": "python",
   "nbconvert_exporter": "python",
   "pygments_lexer": "ipython3",
   "version": "3.9.13"
  }
 },
 "nbformat": 4,
 "nbformat_minor": 5
}
